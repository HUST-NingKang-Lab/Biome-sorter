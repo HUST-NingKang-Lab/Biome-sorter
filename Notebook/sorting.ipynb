{
 "cells": [
  {
   "cell_type": "markdown",
   "metadata": {},
   "source": [
    "## Initializing environments"
   ]
  },
  {
   "cell_type": "code",
   "execution_count": null,
   "metadata": {},
   "outputs": [],
   "source": [
    "import sys\n",
    "!$sys.executable setup.py install\n",
    "!ONN init"
   ]
  },
  {
   "cell_type": "markdown",
   "metadata": {},
   "source": [
    "## Testing installation"
   ]
  },
  {
   "cell_type": "code",
   "execution_count": null,
   "metadata": {},
   "outputs": [],
   "source": [
    "!ONN search ..."
   ]
  },
  {
   "cell_type": "markdown",
   "metadata": {},
   "source": [
    "## Loading & preprocessing the data"
   ]
  },
  {
   "cell_type": "code",
   "execution_count": null,
   "metadata": {},
   "outputs": [],
   "source": [
    "!ONN construct -i tmp/microbiomes.txt -o tmp/ontology.pkl\n",
    "!ONN map -from-dir -i ../data/ -o tmp/mapper.csv\n",
    "!ONN map -to-otlg -otlg tmp/ontology.pkl -i tmp/mapper.csv -o tmp/out/labels.h5 -unk\n",
    "!ONN convert -i tmp/sample-list.txt -conf tmp/conf -o tmp/out/countmatrix_genus.h5 -db ~/.etetoolkit/taxa.sqlite\n",
    "!ONN select -i tmp/conf/phylogeny_by_transformer.csv -cm tmp/out/countmatrix_genus.h5 -o tmp/conf/phylogeny_top1000.csv \\\n",
    "    -top 1000 -labels tmp/out/labels.h5 -dmax 5"
   ]
  },
  {
   "cell_type": "markdown",
   "metadata": {},
   "source": [
    "## Model training & cross validation"
   ]
  },
  {
   "cell_type": "code",
   "execution_count": null,
   "metadata": {},
   "outputs": [],
   "source": [
    "!ONN train -i data/matrix-genus-for-combined-C1e-5.h5 -label data/labels-for-combined.h5 \\\n",
    "    -otlg config/ontology-for-combined.pkl -log logs/training-history-for-combined.csv -dmax 6 \\\n",
    "    -o models/model-for-combied -cfg ../../config/config.ini \\\n",
    "    -phylo tmp/phylogeny_selected_using_varianceThreshold_C1e-05_pog.csv -end-idx -1 -split-idx -1"
   ]
  },
  {
   "cell_type": "markdown",
   "metadata": {},
   "source": [
    "## Auto-sorting of Mixed samples"
   ]
  },
  {
   "cell_type": "code",
   "execution_count": null,
   "metadata": {},
   "outputs": [],
   "source": [
    "!ONN search ..."
   ]
  },
  {
   "cell_type": "markdown",
   "metadata": {},
   "source": [
    "## biome source correction for samples "
   ]
  },
  {
   "cell_type": "code",
   "execution_count": null,
   "metadata": {},
   "outputs": [],
   "source": []
  }
 ],
 "metadata": {
  "kernelspec": {
   "display_name": "Python 3",
   "language": "python",
   "name": "python3"
  },
  "language_info": {
   "codemirror_mode": {
    "name": "ipython",
    "version": 3
   },
   "file_extension": ".py",
   "mimetype": "text/x-python",
   "name": "python",
   "nbconvert_exporter": "python",
   "pygments_lexer": "ipython3",
   "version": "3.8.2"
  },
  "widgets": {
   "application/vnd.jupyter.widget-state+json": {
    "state": {},
    "version_major": 2,
    "version_minor": 0
   }
  }
 },
 "nbformat": 4,
 "nbformat_minor": 4
}
